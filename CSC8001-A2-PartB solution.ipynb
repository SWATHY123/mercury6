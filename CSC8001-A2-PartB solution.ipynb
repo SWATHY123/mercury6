{
 "cells": [
  {
   "cell_type": "markdown",
   "metadata": {},
   "source": [
    "# CSC8001: Assignment 2\n",
    "## Part B [50 marks]"
   ]
  },
  {
   "cell_type": "code",
   "execution_count": null,
   "metadata": {},
   "outputs": [],
   "source": [
    "%matplotlib inline\n",
    "import matplotlib.pyplot as plt\n",
    "import matplotlib as mpl\n",
    "\n",
    "import numpy as np\n",
    "import pandas as pd"
   ]
  },
  {
   "cell_type": "markdown",
   "metadata": {},
   "source": [
    "## B1: Fuel efficiency [25 total marks]\n",
    "For this problem we're going to use the [UCI Machine Learning Repository](https://archive.ics.uci.edu/ml/datasets/auto+mpg) Auto MPG Data set to explore the association between a car's horsepower and its fuel efficiency."
   ]
  },
  {
   "cell_type": "markdown",
   "metadata": {},
   "source": [
    "### B1.1 Load data [5 marks]\n",
    "For the `b11()` function below: load the Auto MPG data into a Data Frame, clean data as required, and return the Data Frame. \n",
    "\n",
    "The `auto-mpg.data` data file and its data description, `auto-mpg.names`, are available in the assignment data folder.  Be sure to read the data description file.  Use the `Attribute` names provided in `auto-mpg.names` for your Data Frame's column names.  For two word attribute names use the 2nd word: `year` for `model year` and `name` for `car name`."
   ]
  },
  {
   "cell_type": "code",
   "execution_count": 171,
   "metadata": {},
   "outputs": [],
   "source": [
    "def b11():\n",
    "    # Your Code/Comments Here\n",
    "    data= pd.read_csv(\"G://Personal//Assgnmnt//PythonFolder//data//auto-mpg.csv\")\n",
    "    df=pd.DataFrame(data)\n",
    "    return df\n",
    "    \n",
    "   "
   ]
  },
  {
   "cell_type": "code",
   "execution_count": 172,
   "metadata": {},
   "outputs": [
    {
     "name": "stdout",
     "output_type": "stream",
     "text": [
      "      mpg  cylinders  displacement  horsepower  weight  acceleration  year  \\\n",
      "0    18.0          8         307.0       130.0    3504          12.0    70   \n",
      "1    15.0          8         350.0       165.0    3693          11.5    70   \n",
      "2    18.0          8         318.0       150.0    3436          11.0    70   \n",
      "3    16.0          8         304.0       150.0    3433          12.0    70   \n",
      "4    17.0          8         302.0       140.0    3449          10.5    70   \n",
      "5    15.0          8         429.0       198.0    4341          10.0    70   \n",
      "6    14.0          8         454.0       220.0    4354           9.0    70   \n",
      "7    14.0          8         440.0       215.0    4312           8.5    70   \n",
      "8    14.0          8         455.0       225.0    4425          10.0    70   \n",
      "9    15.0          8         390.0       190.0    3850           8.5    70   \n",
      "10   15.0          8         383.0       170.0    3563          10.0    70   \n",
      "11   14.0          8         340.0       160.0    3609           8.0    70   \n",
      "12   15.0          8         400.0       150.0    3761           9.5    70   \n",
      "13   14.0          8         455.0       225.0    3086          10.0    70   \n",
      "14   24.0          4         113.0        95.0    2372          15.0    70   \n",
      "15   22.0          6         198.0        95.0    2833          15.5    70   \n",
      "16   18.0          6         199.0        97.0    2774          15.5    70   \n",
      "17   21.0          6         200.0        85.0    2587          16.0    70   \n",
      "18   27.0          4          97.0        88.0    2130          14.5    70   \n",
      "19   26.0          4          97.0        46.0    1835          20.5    70   \n",
      "20   25.0          4         110.0        87.0    2672          17.5    70   \n",
      "21   24.0          4         107.0        90.0    2430          14.5    70   \n",
      "22   25.0          4         104.0        95.0    2375          17.5    70   \n",
      "23   26.0          4         121.0       113.0    2234          12.5    70   \n",
      "24   21.0          6         199.0        90.0    2648          15.0    70   \n",
      "25   10.0          8         360.0       215.0    4615          14.0    70   \n",
      "26   10.0          8         307.0       200.0    4376          15.0    70   \n",
      "27   11.0          8         318.0       210.0    4382          13.5    70   \n",
      "28    9.0          8         304.0       193.0    4732          18.5    70   \n",
      "29   27.0          4          97.0        88.0    2130          14.5    71   \n",
      "..    ...        ...           ...         ...     ...           ...   ...   \n",
      "361  28.0          4         112.0        88.0    2605          19.6    82   \n",
      "362  27.0          4         112.0        88.0    2640          18.6    82   \n",
      "363  34.0          4         112.0        88.0    2395          18.0    82   \n",
      "364  31.0          4         112.0        85.0    2575          16.2    82   \n",
      "365  29.0          4         135.0        84.0    2525          16.0    82   \n",
      "366  27.0          4         151.0        90.0    2735          18.0    82   \n",
      "367  24.0          4         140.0        92.0    2865          16.4    82   \n",
      "368  36.0          4         105.0        74.0    1980          15.3    82   \n",
      "369  37.0          4          91.0        68.0    2025          18.2    82   \n",
      "370  31.0          4          91.0        68.0    1970          17.6    82   \n",
      "371  38.0          4         105.0        63.0    2125          14.7    82   \n",
      "372  36.0          4          98.0        70.0    2125          17.3    82   \n",
      "373  36.0          4         120.0        88.0    2160          14.5    82   \n",
      "374  36.0          4         107.0        75.0    2205          14.5    82   \n",
      "375  34.0          4         108.0        70.0    2245          16.9    82   \n",
      "376  38.0          4          91.0        67.0    1965          15.0    82   \n",
      "377  32.0          4          91.0        67.0    1965          15.7    82   \n",
      "378  38.0          4          91.0        67.0    1995          16.2    82   \n",
      "379  25.0          6         181.0       110.0    2945          16.4    82   \n",
      "380  38.0          6         262.0        85.0    3015          17.0    82   \n",
      "381  26.0          4         156.0        92.0    2585          14.5    82   \n",
      "382  22.0          6         232.0       112.0    2835          14.7    82   \n",
      "383  32.0          4         144.0        96.0    2665          13.9    82   \n",
      "384  36.0          4         135.0        84.0    2370          13.0    82   \n",
      "385  27.0          4         151.0        90.0    2950          17.3    82   \n",
      "386  27.0          4         140.0        86.0    2790          15.6    82   \n",
      "387  44.0          4          97.0        52.0    2130          24.6    82   \n",
      "388  32.0          4         135.0        84.0    2295          11.6    82   \n",
      "389  28.0          4         120.0        79.0    2625          18.6    82   \n",
      "390  31.0          4         119.0        82.0    2720          19.4    82   \n",
      "\n",
      "     origin                               name  \n",
      "0         1          chevrolet chevelle malibu  \n",
      "1         1                  buick skylark 320  \n",
      "2         1                 plymouth satellite  \n",
      "3         1                      amc rebel sst  \n",
      "4         1                        ford torino  \n",
      "5         1                   ford galaxie 500  \n",
      "6         1                   chevrolet impala  \n",
      "7         1                  plymouth fury iii  \n",
      "8         1                   pontiac catalina  \n",
      "9         1                 amc ambassador dpl  \n",
      "10        1                dodge challenger se  \n",
      "11        1                 plymouth 'cuda 340  \n",
      "12        1              chevrolet monte carlo  \n",
      "13        1            buick estate wagon (sw)  \n",
      "14        3              toyota corona mark ii  \n",
      "15        1                    plymouth duster  \n",
      "16        1                         amc hornet  \n",
      "17        1                      ford maverick  \n",
      "18        3                       datsun pl510  \n",
      "19        2       volkswagen 1131 deluxe sedan  \n",
      "20        2                        peugeot 504  \n",
      "21        2                        audi 100 ls  \n",
      "22        2                           saab 99e  \n",
      "23        2                           bmw 2002  \n",
      "24        1                        amc gremlin  \n",
      "25        1                          ford f250  \n",
      "26        1                          chevy c20  \n",
      "27        1                         dodge d200  \n",
      "28        1                           hi 1200d  \n",
      "29        3                       datsun pl510  \n",
      "..      ...                                ...  \n",
      "361       1                  chevroletcavalier  \n",
      "362       1             chevroletcavalierwagon  \n",
      "363       1          chevrolet cavalier 2-door  \n",
      "364       1         pontiac j2000 se hatchback  \n",
      "365       1                     dodge aries se  \n",
      "366       1                    pontiac phoenix  \n",
      "367       1               ford fairmont futura  \n",
      "368       2                volkswagen rabbit l  \n",
      "369       3                 mazda glc custom l  \n",
      "370       3                   mazda glc custom  \n",
      "371       1             plymouth horizon miser  \n",
      "372       1                     mercury lynx l  \n",
      "373       3                   nissan stanza xe  \n",
      "374       3                       honda accord  \n",
      "375       3                     toyota corolla  \n",
      "376       3                        honda civic  \n",
      "377       3                 honda civic (auto)  \n",
      "378       3                      datsun 310 gx  \n",
      "379       1              buick century limited  \n",
      "380       1  oldsmobile cutlass ciera (diesel)  \n",
      "381       1         chrysler lebaron medallion  \n",
      "382       1                     ford granada l  \n",
      "383       3                   toyota celica gt  \n",
      "384       1                  dodge charger 2.2  \n",
      "385       1                   chevrolet camaro  \n",
      "386       1                    ford mustang gl  \n",
      "387       2                          vw pickup  \n",
      "388       1                      dodge rampage  \n",
      "389       1                        ford ranger  \n",
      "390       1                         chevy s-10  \n",
      "\n",
      "[391 rows x 9 columns]\n"
     ]
    },
    {
     "data": {
      "text/plain": [
       "(391, 9)"
      ]
     },
     "execution_count": 172,
     "metadata": {},
     "output_type": "execute_result"
    }
   ],
   "source": [
    "import pandas as pd\n",
    "auto = b11()\n",
    "print(auto)\n",
    "auto.shape"
   ]
  },
  {
   "cell_type": "markdown",
   "metadata": {},
   "source": [
    "### B1.2 Multi-axes histogram chart [10 marks]\n",
    "To help us explore the association between a car's horsepower and its fuel efficiency, create a multi-axes histogram chart plotting `horsepower` vs `mpg`. \n",
    "\n",
    "The `b12()` function should:\n",
    "- call the `b11()` function to retrieve the auto-mpg Data Frame  \n",
    "- use `seaborn-whitegrid` style, just for this b12 plot  \n",
    "- create a plot similar to the one shown below\n",
    "\n",
    "*Hint: Review the PyDSHB notebooks: 04.11 Settings and Stylesheets and 04.08 Multiple Subplots*.\n",
    "\n",
    "<img src=\"b12.PNG\" width=488 height=375 align=left />"
   ]
  },
  {
   "cell_type": "code",
   "execution_count": 115,
   "metadata": {},
   "outputs": [],
   "source": [
    "import pandas as pd\n",
    "import seaborn as sns\n",
    "import numpy as np\n",
    "from matplotlib import pyplot as plt\n",
    "\n",
    "def b12():\n",
    "    # Your code/comments here \n",
    "    auto = b11()\n",
    "    x=auto['horsepower']\n",
    "    y=auto['mpg']\n",
    "    plt.hist([x, y], color=['orange', 'green'])\n",
    "\n",
    "    \n",
    " \n",
    "\n"
   ]
  },
  {
   "cell_type": "code",
   "execution_count": 116,
   "metadata": {},
   "outputs": [
    {
     "data": {
      "image/png": "[encoded data removed]",
      "text/plain": [
       "<Figure size 432x288 with 1 Axes>"
      ]
     },
     "metadata": {},
     "output_type": "display_data"
    }
   ],
   "source": [
    " b12()\n"
   ]
  },
  {
   "cell_type": "markdown",
   "metadata": {},
   "source": [
    "### B1.3: Two-dimensional histogram [10marks]\n",
    "Continuing our explorations into the association between a car's horsepower and its fuel effiecincy:\n",
    "\n",
    "The `b13()` function should:\n",
    "- call the `b11()` function to retrieve the auto-mpg Data Frame \n",
    "- use Matplotlib's `hist2d()` function to generate a two-dimensional histogram of `mpg` vs `horsepower`.  \n",
    "\n",
    "Additional plot criteria:\n",
    "  - Plot `horsepower` on the horizontal axis and `mpg` along the vertical axis.\n",
    "  - Figure size: 10 by 5\n",
    "  - 25 bins\n",
    "  - Plot range values for horsepower between 40 and 235, and mpg between 5 and 50.\n",
    "   - Colorbar with an appropriate color map\n",
    "   - Appropriate labels\n"
   ]
  },
  {
   "cell_type": "code",
   "execution_count": 175,
   "metadata": {},
   "outputs": [],
   "source": [
    "import numpy as np\n",
    "import matplotlib.pyplot as plt\n",
    "def b13():\n",
    "    # Your code/comments here to create two-dimensional histogram  \n",
    "    auto=b11()\n",
    "    hp=auto['horsepower'].astype(float)\n",
    "    print(type(hp))\n",
    "    mpg=auto['mpg'].astype(float)\n",
    "    print(type(mpg))\n",
    "    plt.hist2d(hp, mpg, bins=(25,25), \n",
    "           range=((40,235), (5,50)))\n",
    "    plt.show()"
   ]
  },
  {
   "cell_type": "code",
   "execution_count": 176,
   "metadata": {},
   "outputs": [
    {
     "name": "stdout",
     "output_type": "stream",
     "text": [
      "<class 'pandas.core.series.Series'>\n",
      "<class 'pandas.core.series.Series'>\n"
     ]
    },
    {
     "data": {
      "image/png": "[encoded data removed]",
      "text/plain": [
       "<Figure size 432x288 with 1 Axes>"
      ]
     },
     "metadata": {},
     "output_type": "display_data"
    }
   ],
   "source": [
    "b13()"
   ]
  },
  {
   "cell_type": "markdown",
   "metadata": {},
   "source": [
    "## B2: Birthdays [25 total marks]\n",
    "For this problem we will be analysing and visualising U.S. birth data as an homage to Matt Stiles's [\"How Common is Your Birthday\"](http://thedailyviz.com/2016/09/17/how-common-is-your-birthday-dailyviz/) article.  Our chart will use the  birth data gathered by [FiveThirtyEight](https://github.com/fivethirtyeight/data/tree/master/births) [[CC BY 4.0](https://creativecommons.org/licenses/by/4.0/)]: \n",
    "\n",
    "There are two birth data files, both available in the assignment `data` folder:\n",
    "\n",
    "- `US_births_1994-2003_CDC_NCHS.csv`: <br>\n",
    "   Births from 1994 to 2003 (Centers for Disease Control and   Prevention's National Center for Health Statistics)\n",
    "\n",
    "- `US_births_2000-2014_SSA.csv`: <br>\n",
    "   Births from 2000 to 2014 (Social Security Administration)\n",
    "\n",
    "Both files have the following structure:\n",
    "\n",
    "| year |\tmonth |\tdate_of_month |\tday_of_week\t | births |\n",
    "|:---|:---|:---|:---|:---|\n",
    "| 1994 |\t1 |\t1 |\t6 |\t8096 |\n",
    " |1994 |\t1 |\t2 |\t7 |\t7772 |\n",
    " |1994 |\t1 |\t3 |\t1 |\t10142 |\n",
    " |1994 |\t1 |\t4 |\t2 |\t11248 |\n"
   ]
  },
  {
   "cell_type": "markdown",
   "metadata": {},
   "source": [
    "### B2.1 Load data [10 marks]\n",
    "Complete the `b21()` function below which should provide the following functionality:\n",
    "- Load data from the two files into one Data Frame and clean as required.\n",
    "- Return a Data Frame with multiple indexes for `month` and `date_of_month` and a `births` column which has the average daily births from 1994-2014. See `b21().tail()` output below. *Hint: Review the PyDSHB notebook: *03.05 Hierarchical Indexing*.\n",
    "\n",
    "<img src=\"b21.PNG\" width=221 height=199 align=left />\n"
   ]
  },
  {
   "cell_type": "code",
   "execution_count": 184,
   "metadata": {},
   "outputs": [],
   "source": [
    "import glob\n",
    "import pandas as pd\n",
    "def b21():\n",
    "    # Your code/comments here\n",
    "    path =r'G:\\Personal\\Assgnmnt\\PythonFolder\\data' # use your path\n",
    "    allFiles = glob.glob(path + \"/*.csv\")\n",
    "    frame = pd.DataFrame()\n",
    "    list_ = []\n",
    "    for file_ in allFiles:\n",
    "        df = pd.read_csv(file_,index_col=None, header=0)\n",
    "        list_.append(df)\n",
    "    frame = pd.concat(list_)\n",
    "    print(frame)\n",
    "    return frame"
   ]
  },
  {
   "cell_type": "code",
   "execution_count": 185,
   "metadata": {},
   "outputs": [
    {
     "name": "stdout",
     "output_type": "stream",
     "text": [
      "      year  month  date_of_month  day_of_week  births\n",
      "0     1994      1              1            6    8096\n",
      "1     1994      1              2            7    7772\n",
      "2     1994      1              3            1   10142\n",
      "3     1994      1              4            2   11248\n",
      "4     1994      1              5            3   11053\n",
      "5     1994      1              6            4   11406\n",
      "6     1994      1              7            5   11251\n",
      "7     1994      1              8            6    8653\n",
      "8     1994      1              9            7    7910\n",
      "9     1994      1             10            1   10498\n",
      "10    1994      1             11            2   11706\n",
      "11    1994      1             12            3   11567\n",
      "12    1994      1             13            4   11212\n",
      "13    1994      1             14            5   11570\n",
      "14    1994      1             15            6    8660\n",
      "15    1994      1             16            7    8123\n",
      "16    1994      1             17            1   10567\n",
      "17    1994      1             18            2   11541\n",
      "18    1994      1             19            3   11257\n",
      "19    1994      1             20            4   11682\n",
      "20    1994      1             21            5   11811\n",
      "21    1994      1             22            6    8833\n",
      "22    1994      1             23            7    8310\n",
      "23    1994      1             24            1   11125\n",
      "24    1994      1             25            2   11981\n",
      "25    1994      1             26            3   11514\n",
      "26    1994      1             27            4   11702\n",
      "27    1994      1             28            5   11666\n",
      "28    1994      1             29            6    8988\n",
      "29    1994      1             30            7    8096\n",
      "...    ...    ...            ...          ...     ...\n",
      "5449  2014     12              2            2   13083\n",
      "5450  2014     12              3            3   12427\n",
      "5451  2014     12              4            4   12384\n",
      "5452  2014     12              5            5   11964\n",
      "5453  2014     12              6            6    8280\n",
      "5454  2014     12              7            7    7196\n",
      "5455  2014     12              8            1   11773\n",
      "5456  2014     12              9            2   12419\n",
      "5457  2014     12             10            3   12203\n",
      "5458  2014     12             11            4   12042\n",
      "5459  2014     12             12            5   12001\n",
      "5460  2014     12             13            6    8596\n",
      "5461  2014     12             14            7    7291\n",
      "5462  2014     12             15            1   12013\n",
      "5463  2014     12             16            2   12748\n",
      "5464  2014     12             17            3   12684\n",
      "5465  2014     12             18            4   12816\n",
      "5466  2014     12             19            5   12714\n",
      "5467  2014     12             20            6    8465\n",
      "5468  2014     12             21            7    7382\n",
      "5469  2014     12             22            1   12799\n",
      "5470  2014     12             23            2   12604\n",
      "5471  2014     12             24            3    9308\n",
      "5472  2014     12             25            4    6749\n",
      "5473  2014     12             26            5   10386\n",
      "5474  2014     12             27            6    8656\n",
      "5475  2014     12             28            7    7724\n",
      "5476  2014     12             29            1   12811\n",
      "5477  2014     12             30            2   13634\n",
      "5478  2014     12             31            3   11990\n",
      "\n",
      "[9131 rows x 5 columns]\n"
     ]
    },
    {
     "data": {
      "text/html": [
       "<div>\n",
       "<style scoped>\n",
       "    .dataframe tbody tr th:only-of-type {\n",
       "        vertical-align: middle;\n",
       "    }\n",
       "\n",
       "    .dataframe tbody tr th {\n",
       "        vertical-align: top;\n",
       "    }\n",
       "\n",
       "    .dataframe thead th {\n",
       "        text-align: right;\n",
       "    }\n",
       "</style>\n",
       "<table border=\"1\" class=\"dataframe\">\n",
       "  <thead>\n",
       "    <tr style=\"text-align: right;\">\n",
       "      <th></th>\n",
       "      <th>year</th>\n",
       "      <th>month</th>\n",
       "      <th>date_of_month</th>\n",
       "      <th>day_of_week</th>\n",
       "      <th>births</th>\n",
       "    </tr>\n",
       "  </thead>\n",
       "  <tbody>\n",
       "    <tr>\n",
       "      <th>5474</th>\n",
       "      <td>2014</td>\n",
       "      <td>12</td>\n",
       "      <td>27</td>\n",
       "      <td>6</td>\n",
       "      <td>8656</td>\n",
       "    </tr>\n",
       "    <tr>\n",
       "      <th>5475</th>\n",
       "      <td>2014</td>\n",
       "      <td>12</td>\n",
       "      <td>28</td>\n",
       "      <td>7</td>\n",
       "      <td>7724</td>\n",
       "    </tr>\n",
       "    <tr>\n",
       "      <th>5476</th>\n",
       "      <td>2014</td>\n",
       "      <td>12</td>\n",
       "      <td>29</td>\n",
       "      <td>1</td>\n",
       "      <td>12811</td>\n",
       "    </tr>\n",
       "    <tr>\n",
       "      <th>5477</th>\n",
       "      <td>2014</td>\n",
       "      <td>12</td>\n",
       "      <td>30</td>\n",
       "      <td>2</td>\n",
       "      <td>13634</td>\n",
       "    </tr>\n",
       "    <tr>\n",
       "      <th>5478</th>\n",
       "      <td>2014</td>\n",
       "      <td>12</td>\n",
       "      <td>31</td>\n",
       "      <td>3</td>\n",
       "      <td>11990</td>\n",
       "    </tr>\n",
       "  </tbody>\n",
       "</table>\n",
       "</div>"
      ],
      "text/plain": [
       "      year  month  date_of_month  day_of_week  births\n",
       "5474  2014     12             27            6    8656\n",
       "5475  2014     12             28            7    7724\n",
       "5476  2014     12             29            1   12811\n",
       "5477  2014     12             30            2   13634\n",
       "5478  2014     12             31            3   11990"
      ]
     },
     "execution_count": 185,
     "metadata": {},
     "output_type": "execute_result"
    }
   ],
   "source": [
    "b21().tail()"
   ]
  },
  {
   "cell_type": "markdown",
   "metadata": {},
   "source": [
    "### B2.2 Plot data [15 marks]\n",
    "Create a heatmap style plot similar to the one shown below from Matt Stiles's article: [\"How Common is Your Birthday\"](http://thedailyviz.com/2016/09/17/how-common-is-your-birthday-dailyviz/). *HINT: You may find these resources helpful: [Creating annotated heatmaps](https://matplotlib.org/gallery/images_contours_and_fields/image_annotated_heatmap.html#sphx-glr-gallery-images-contours-and-fields-image-annotated-heatmap-py) and PyDSHB: 04.07 Customizing Colorbars*\n",
    "\n",
    "Additional criteria:\n",
    " - Use `b21()` function to load data \n",
    " - Add appropriate labels. \n",
    "   - X-axis labels should be on the top of the plot.\n",
    " - Distribution of average daily births per month/day should be similar to article's.\n",
    " - For the color bar select the appropriate discrete values and color limits. Indicate out-of-bounds values with a triangular arrow.\n",
    "    - Do not need to duplicate article's color map or colorbar placement. \n",
    "\n",
    "\n",
    "<img src=\"b22.PNG\" width=738 height=343 align=left/> <br>"
   ]
  },
  {
   "cell_type": "code",
   "execution_count": 206,
   "metadata": {},
   "outputs": [],
   "source": [
    "import numpy as np \n",
    "import seaborn as sns\n",
    "import numpy as np\n",
    "import matplotlib\n",
    "import matplotlib.pyplot as plt\n",
    "%matplotlib inline\n",
    "def b22():\n",
    "    # Your code/comments here\n",
    "    data= b21()\n",
    "    \n",
    "\n",
    "    month = ['jan','feb,''march','apr','May','June','july','Aug','Sep','Oct',\n",
    "            'Nov','Dec']\n",
    "    date_of_month =[1,2,3,4,5,6,7,8,9,10,11,12,13,14,15,16,17,18,19,20,21,22,23,24,25,26,27,28,29,30,31]\n",
    "    prob_value = np.array([[0.8, 2.4, 2.5, 3.9, 0.0, 4.0, 0.0],\n",
    "                    [2.4, 0.0, 4.0, 1.0, 2.7, 0.0, 0.0],\n",
    "                    [1.1, 2.4, 0.8, 4.3, 1.9, 4.4, 0.0],\n",
    "                    [0.6, 0.0, 0.3, 0.0, 3.1, 0.0, 0.0],\n",
    "                    [0.7, 1.7, 0.6, 2.6, 2.2, 6.2, 0.0],\n",
    "                    [1.3, 1.2, 0.0, 0.0, 0.0, 3.2, 5.1],\n",
    "                    [0.1, 2.0, 0.0, 1.4, 0.0, 1.9, 6.3]])\n",
    "\n",
    "\n",
    "    fig, ax = plt.subplots()\n",
    "    im = ax.imshow(prob_value)\n",
    "\n",
    "     # We want to show all ticks...\n",
    "    ax.set_xticks(np.arange(len(date_of_month)))\n",
    "    ax.set_yticks(np.arange(len(month)))\n",
    "# ... and label them with the respective list entries\n",
    "    ax.set_xticklabels(date_of_month)\n",
    "    ax.set_yticklabels(month)\n",
    "\n",
    "   # Rotate the tick labels and set their alignment.\n",
    "    plt.setp(ax.get_xticklabels(), rotation=45, ha=\"right\",\n",
    "         rotation_mode=\"anchor\")\n",
    "\n",
    "  # Loop over data dimensions and create text annotations.\n",
    "    for i in range(len(month)):\n",
    "        for j in range(len(date_of_month)):\n",
    "            text = ax.text(j, i, prob_value[i, j],\n",
    "                       ha=\"center\", va=\"center\", color=\"w\")\n",
    "\n",
    "    ax.set_title(\"birthday prob(in month/day)\")\n",
    "    fig.tight_layout()\n",
    "    plt.show()\n"
   ]
  },
  {
   "cell_type": "code",
   "execution_count": 207,
   "metadata": {},
   "outputs": [
    {
     "name": "stdout",
     "output_type": "stream",
     "text": [
      "      year  month  date_of_month  day_of_week  births\n",
      "0     1994      1              1            6    8096\n",
      "1     1994      1              2            7    7772\n",
      "2     1994      1              3            1   10142\n",
      "3     1994      1              4            2   11248\n",
      "4     1994      1              5            3   11053\n",
      "5     1994      1              6            4   11406\n",
      "6     1994      1              7            5   11251\n",
      "7     1994      1              8            6    8653\n",
      "8     1994      1              9            7    7910\n",
      "9     1994      1             10            1   10498\n",
      "10    1994      1             11            2   11706\n",
      "11    1994      1             12            3   11567\n",
      "12    1994      1             13            4   11212\n",
      "13    1994      1             14            5   11570\n",
      "14    1994      1             15            6    8660\n",
      "15    1994      1             16            7    8123\n",
      "16    1994      1             17            1   10567\n",
      "17    1994      1             18            2   11541\n",
      "18    1994      1             19            3   11257\n",
      "19    1994      1             20            4   11682\n",
      "20    1994      1             21            5   11811\n",
      "21    1994      1             22            6    8833\n",
      "22    1994      1             23            7    8310\n",
      "23    1994      1             24            1   11125\n",
      "24    1994      1             25            2   11981\n",
      "25    1994      1             26            3   11514\n",
      "26    1994      1             27            4   11702\n",
      "27    1994      1             28            5   11666\n",
      "28    1994      1             29            6    8988\n",
      "29    1994      1             30            7    8096\n",
      "...    ...    ...            ...          ...     ...\n",
      "5449  2014     12              2            2   13083\n",
      "5450  2014     12              3            3   12427\n",
      "5451  2014     12              4            4   12384\n",
      "5452  2014     12              5            5   11964\n",
      "5453  2014     12              6            6    8280\n",
      "5454  2014     12              7            7    7196\n",
      "5455  2014     12              8            1   11773\n",
      "5456  2014     12              9            2   12419\n",
      "5457  2014     12             10            3   12203\n",
      "5458  2014     12             11            4   12042\n",
      "5459  2014     12             12            5   12001\n",
      "5460  2014     12             13            6    8596\n",
      "5461  2014     12             14            7    7291\n",
      "5462  2014     12             15            1   12013\n",
      "5463  2014     12             16            2   12748\n",
      "5464  2014     12             17            3   12684\n",
      "5465  2014     12             18            4   12816\n",
      "5466  2014     12             19            5   12714\n",
      "5467  2014     12             20            6    8465\n",
      "5468  2014     12             21            7    7382\n",
      "5469  2014     12             22            1   12799\n",
      "5470  2014     12             23            2   12604\n",
      "5471  2014     12             24            3    9308\n",
      "5472  2014     12             25            4    6749\n",
      "5473  2014     12             26            5   10386\n",
      "5474  2014     12             27            6    8656\n",
      "5475  2014     12             28            7    7724\n",
      "5476  2014     12             29            1   12811\n",
      "5477  2014     12             30            2   13634\n",
      "5478  2014     12             31            3   11990\n",
      "\n",
      "[9131 rows x 5 columns]\n"
     ]
    },
    {
     "ename": "IndexError",
     "evalue": "index 7 is out of bounds for axis 1 with size 7",
     "output_type": "error",
     "traceback": [
      "\u001b[1;31m---------------------------------------------------------------------------\u001b[0m",
      "\u001b[1;31mIndexError\u001b[0m                                Traceback (most recent call last)",
      "\u001b[1;32m<ipython-input-207-378078b1f6a3>\u001b[0m in \u001b[0;36m<module>\u001b[1;34m()\u001b[0m\n\u001b[1;32m----> 1\u001b[1;33m \u001b[0mb22\u001b[0m\u001b[1;33m(\u001b[0m\u001b[1;33m)\u001b[0m\u001b[1;33m\u001b[0m\u001b[0m\n\u001b[0m",
      "\u001b[1;32m<ipython-input-206-fd7ddd591aac>\u001b[0m in \u001b[0;36mb22\u001b[1;34m()\u001b[0m\n\u001b[0;32m     39\u001b[0m     \u001b[1;32mfor\u001b[0m \u001b[0mi\u001b[0m \u001b[1;32min\u001b[0m \u001b[0mrange\u001b[0m\u001b[1;33m(\u001b[0m\u001b[0mlen\u001b[0m\u001b[1;33m(\u001b[0m\u001b[0mmonth\u001b[0m\u001b[1;33m)\u001b[0m\u001b[1;33m)\u001b[0m\u001b[1;33m:\u001b[0m\u001b[1;33m\u001b[0m\u001b[0m\n\u001b[0;32m     40\u001b[0m         \u001b[1;32mfor\u001b[0m \u001b[0mj\u001b[0m \u001b[1;32min\u001b[0m \u001b[0mrange\u001b[0m\u001b[1;33m(\u001b[0m\u001b[0mlen\u001b[0m\u001b[1;33m(\u001b[0m\u001b[0mdate_of_month\u001b[0m\u001b[1;33m)\u001b[0m\u001b[1;33m)\u001b[0m\u001b[1;33m:\u001b[0m\u001b[1;33m\u001b[0m\u001b[0m\n\u001b[1;32m---> 41\u001b[1;33m             text = ax.text(j, i, prob_value[i, j],\n\u001b[0m\u001b[0;32m     42\u001b[0m                        ha=\"center\", va=\"center\", color=\"w\")\n\u001b[0;32m     43\u001b[0m \u001b[1;33m\u001b[0m\u001b[0m\n",
      "\u001b[1;31mIndexError\u001b[0m: index 7 is out of bounds for axis 1 with size 7"
     ]
    },
    {
     "data": {
      "image/png": "[encoded data removed]",
      "text/plain": [
       "<Figure size 432x288 with 1 Axes>"
      ]
     },
     "metadata": {},
     "output_type": "display_data"
    }
   ],
   "source": [
    "b22()"
   ]
  },
  {
   "cell_type": "markdown",
   "metadata": {},
   "source": [
    "\n",
    "---------------- **End of Part B** ---------------------\n",
    "\n",
    "\n",
    "Parts of this assignment were based on/adapted from:\n",
    "- \"Some People Are Too Superstitious To Have A Baby On Friday The 13th\", [FiveThirtyEight](https://fivethirtyeight.com/features/some-people-are-too-superstitious-to-have-a-baby-on-friday-the-13th/), 13 May 2016.\n",
    "- \"How Common is Your Birthday\", [The Daily Viz](http://thedailyviz.com/2016/09/17/how-common-is-your-birthday-dailyviz/), Matt Stiles, September 17, 2016"
   ]
  },
  {
   "cell_type": "code",
   "execution_count": null,
   "metadata": {},
   "outputs": [],
   "source": []
  }
 ],
 "metadata": {
  "kernelspec": {
   "display_name": "Python 3",
   "language": "python",
   "name": "python3"
  },
  "language_info": {
   "codemirror_mode": {
    "name": "ipython",
    "version": 3
   },
   "file_extension": ".py",
   "mimetype": "text/x-python",
   "name": "python",
   "nbconvert_exporter": "python",
   "pygments_lexer": "ipython3",
   "version": "3.6.4"
  }
 },
 "nbformat": 4,
 "nbformat_minor": 2
}
