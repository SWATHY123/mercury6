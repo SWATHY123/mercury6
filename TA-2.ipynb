{
 "cells": [
  {
   "cell_type": "markdown",
   "metadata": {},
   "source": [
    "# The Five Qualites of Great Visualisations\n",
    "\n",
    "> *\"The greatest value of a picture is when it forces us to notice what we never expected to see.\"*  <br>John W. Tukey, *Exploratory Data Analysis*"
   ]
  },
  {
   "cell_type": "markdown",
   "metadata": {},
   "source": [
    "## Qualities of a Great Visualisation\n",
    "In his book The Truthful Art, Alberto Cairo discusses the five qualities of a great visualisation:\n",
    "\n",
    "1. Truthful      \n",
    "2. Functional\n",
    "3. Beautiful\n",
    "4. Insightful\n",
    "5. Enlightening"
   ]
  },
  {
   "cell_type": "markdown",
   "metadata": {},
   "source": [
    "## Graphic that changed public understanding\n",
    "\n",
    "<div style=\"text-align:right; padding-bottom:20px;\"><img src=\"src/chart-hockeystick.png\" width=626 height=482 align=left /></div>  \n",
    "<br>  \n",
    "\n",
    "<div style=\"text-align:left;padding-top:430px;\">pg. 42, *The Truthful Art* by Alberto Cairo</div>"
   ]
  },
  {
   "cell_type": "markdown",
   "metadata": {},
   "source": [
    "## The hockey stick chart\n",
    "\n",
    "- Summary chart in third IPCC report (2001)\n",
    "- Zero line in the middle of the Y-axis:\n",
    "  - Depicts <span style=\"color: rgb(255,0,0)\">temperature variation</span> in degrees Celsius in comparison to the <span style=\"color: rgb(255,0,0)\">1961 to 1990 average</span>\n",
    "- Systematic temperature records from 17th century\n",
    "- Earlier data based on proxy variables:\n",
    "  - tree-ring growth rate, changes in varved sediments, ice cores, and corals\n",
    "- Uncertainty of statistical estimates shown by gray band\n",
    "  - gray band gets thinner for data based on more reliable (less uncertain) measurement tools and and techniques.\n",
    "- High degree of certainty that temperature of each year is within gray band"
   ]
  },
  {
   "cell_type": "markdown",
   "metadata": {},
   "source": [
    "## Chart message is unambiguous\n",
    "\n",
    "- Sharp rise in temperature in first years of 20<sup>th</sup> century\n",
    "- Cooincides with time frame of human-made greenhouse gases\n",
    "\n",
    "<div align=left style=\"padding-top:10px;\">\n",
    "<img src=\"src/activity.svg.png\" width=50 height=60 align=left style=\"padding-right:10px;\" /> \n",
    "<div style=\"padding-top:10px;\"> \"The Hockey Stick: The Most Controversial Chart in Science, Explained\", [The Atlantic, May 10, 2013](https://www.theatlantic.com/technology/archive/2013/05/the-hockey-stick-the-most-controversial-chart-in-science-explained/275753/) <br>\n",
    "\"Behind the Hockey Stick\", [Scientific American, March 1, 2005](https://www.scientificamerican.com/article/behind-the-hockey-stick/)</div>\n",
    "</div>"
   ]
  },
  {
   "cell_type": "markdown",
   "metadata": {},
   "source": [
    "## Five qualities\n",
    "1. **It is truthful**: based on thorough and honest research\n",
    "2. **It is functional**: accurate depiction of the data, let's people take meaningful action based on it (see change over time)\n",
    "3. **It is beautiful**: its attractive, intriguing and aesthetically pleasing for its intended audience - scientists, and general public\n",
    "4. **It is insightful**: depicts data in manner that enables understanding\n",
    "5. **It is enlightening**: if we understand and accept what the data depicts, it will change our minds and hopefully our actions"
   ]
  },
  {
   "cell_type": "markdown",
   "metadata": {},
   "source": [
    "## Being truthful for your data visualisations\n",
    "When cleaning, summarizing and manipulating data\n",
    " - Avoid self-deception\n",
    " - Be honest with your audience"
   ]
  },
  {
   "cell_type": "markdown",
   "metadata": {},
   "source": [
    "## Is this chart truthful?\n",
    "\n",
    "**Title:**\n",
    "<ul>\n",
    "  <li>Less regulation = More industry investment</li>\n",
    "</ul>\n",
    "\n",
    "**Presentation of data:**\n",
    "<ul>\n",
    "  <li>Missing years: 1996-1999</li>\n",
    "  <li>Unequal time frames: 4 years vs 5 years</li>\n",
    "</ul>\n",
    "\n",
    "<div style=\"padding-top:10px;\">\n",
    "    <img src=\"src/truthful-fig2.2.png\" width=435 height=355 align=left>\n",
    "    <br>   \n",
    "    <br>  \n",
    "</div>\n",
    "\n",
    "\n",
    "<div style=\"text-align:left;padding-top:350px;\">pg. 46, *The Truthful Art* by Alberto Cairo</div>"
   ]
  },
  {
   "cell_type": "markdown",
   "metadata": {},
   "source": [
    "## Truthful: right design choices\n",
    "\n",
    "**Choose your scales and axes carefully**\n",
    "- Chart on left is confusing.\n",
    "- Single y-axis and zero baseline much better representation of data\n",
    "\n",
    "<div align=left style=\"padding-top:10px;\"><img src=\"src/truthful-figs2.4-5.png\" width=614 height=293 align=left /> </div>\n",
    "<br>\n",
    "\n",
    "<div style=\"text-align:left;padding-top:290px;\">pg. 49, *The Truthful Art* by Alberto Cairo</div>"
   ]
  },
  {
   "cell_type": "markdown",
   "metadata": {},
   "source": [
    "## Functionality\n",
    "Choose the chart type which will best help your audience correctly interpret your data\n",
    "\n",
    "<div style=\"padding-top:10px;\"><img src=\"src/functional-fig2.6.png\" width=534 height=349 /> </div>\n",
    "</br>\n",
    "<div style=\"padding-top:10px;\"><img src=\"src/functional-fig2.7.png\" width=273 height=471  /> </div>\n",
    "</br>\n",
    "<div align=left style=\"text-align:left;\">pg. 50-51, *The Truthful Art* by Alberto Cairo</div>"
   ]
  },
  {
   "cell_type": "markdown",
   "metadata": {},
   "source": [
    "## Beautiful\n",
    "\n",
    "A balanced mix of sensual and intellectual pleasure.\n",
    "   > *“Art moves us because it is beautiful, and it is beautiful because it means something. It can be meaningful without being beautiful; but to be beautiful it must be meaningful.”*  Roger Scruton  \n",
    "\n",
    "\n",
    "> *Beauty matters beause attractive and pleasing things work better.  They put us in a good mood, and so they invite us to invest some effort in understanding how to operate them.* Donald A. Norman"
   ]
  },
  {
   "cell_type": "markdown",
   "metadata": {},
   "source": [
    "## What is beauty?\n",
    "- How we perceive its appearance  \n",
    "- How the object is connected to its purpose\n",
    "\n",
    "<div align=left style=\"padding-top:10px;\"><img src=\"src/beautiful-fig2.11.png\" width=669 height=271 align=left /> </div><br>   \n",
    "<div style=\"text-align:left;padding-top:250px;\">pg. 55, *The Truthful Art* by Alberto Cairo</div>"
   ]
  },
  {
   "cell_type": "markdown",
   "metadata": {},
   "source": [
    "## Insightful\n",
    "\n",
    "> \"The purpose of visualisation is insight, not pictures...\", <em>Readings in Information Visualization: Using Vision to Think</em>\n",
    "\n",
    "- Good visualisations enable valuable insights which might have remained inaccessible if the information had been presented differently \n",
    "- Insight is the capacity to gain an accurate and deep understanding of something\n",
    "  - Visualisations which convey only obvious and trivial information are not insightful"
   ]
  },
  {
   "cell_type": "markdown",
   "metadata": {},
   "source": [
    "## Enlightening\n",
    "\n",
    "> \"There is no more telling indictment of reporters and editors than the surprise felt by most Americans in seeing the raw poverty among New Orleans residents after Hurricane Katrina.\", Pulitzer Prize winner David K. Shipler \n",
    "\n",
    "- A combination of truthfullness, functionality, beauty and insight - but with a social ethical responsibility.</br></br>\n",
    "- Choose topics ethically and wisely - casting light on relevant issues. \n",
    "  - Ignorance and a lack of understanding can lead to apathy, a failure to connect with issues.\n",
    "    - *What does that mean to me?*\n",
    "    - *Why should I care?*\n",
    "\n",
    "<div align=left style=\"padding-top:10px;\">\n",
    "<img src=\"src/activity.svg.png\" width=50 height=60 align=left style=\"padding-right:10px;\" /> <br>\n",
    "[Searching for Syria](https://searchingforsyria.org/en/) - In 2017 the United Nations’ refugee agency partnered with Google to answer the five most common questions about the Syrian refugee crisis.</div>\n",
    "  \n"
   ]
  },
  {
   "cell_type": "markdown",
   "metadata": {},
   "source": [
    "<div style=\"text-align: left; border-style: solid; padding: 20px\">\n",
    "Parts of this Notebook were adapted from the following resources:\n",
    " <ul>\n",
    "   <li><em>The Truthful Art</em>, Alberto Cairo, New Riders<br> [learn more at Functional Art website](http://www.thefunctionalart.com/p/the-truthful-art-book.html \"http://www.thefunctionalart.com/p/the-truthful-art-book.html\")</li>\n",
    "   </ul>\n",
    "</div>"
   ]
  }
 ],
 "metadata": {
  "kernelspec": {
   "display_name": "Python 3",
   "language": "python",
   "name": "python3"
  },
  "language_info": {
   "codemirror_mode": {
    "name": "ipython",
    "version": 3
   },
   "file_extension": ".py",
   "mimetype": "text/x-python",
   "name": "python",
   "nbconvert_exporter": "python",
   "pygments_lexer": "ipython3",
   "version": "3.6.1"
  }
 },
 "nbformat": 4,
 "nbformat_minor": 2
}
