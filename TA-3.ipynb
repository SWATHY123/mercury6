{
 "cells": [
  {
   "cell_type": "markdown",
   "metadata": {},
   "source": [
    "# The Truth Continuum"
   ]
  },
  {
   "cell_type": "markdown",
   "metadata": {},
   "source": [
    "## Any visualisation is a model.\n",
    "<img src=\"src/Figure-Intro.4.png\" width=250 height=138 align=right /> \n",
    " *\"We humans use models for perception, cognition, and reasoning because our limited brains are incapable of grasping reality in all its glorious complexity.\"*  \n",
    " \n",
    "A model is: \n",
    " - a simplified depiction of a concrete thing, concept, idea\n",
    " - a means to describe, explain, or predict how something works \n",
    " - an abstract means to approximate reality, while keeping its essence intact  \n",
    " \n",
    "Good models:\n",
    " - balance accuracy vs. complexity\n",
    " - enable correct interpretions \n",
    " - are truthful, informative and understandable\n"
   ]
  },
  {
   "cell_type": "markdown",
   "metadata": {},
   "source": [
    "## Dubious models\n",
    "<div align=right style=\"padding-top:10px;\"><img src=\"src/TA-Fig3.1.png\" width=389 height=209 align=right /> </div>\n",
    "\n",
    "Some visuals are deliberately designed to deceive. Others lead to incorrect interpretations by incorrectly presenting the data  \n",
    "\n",
    "Chart only shows top speeds for *specific* years.  What about: \n",
    "  - years not shown\n",
    "  - percentage of customers who get the top speed\n",
    "  - minimum, or average speed"
   ]
  },
  {
   "cell_type": "markdown",
   "metadata": {},
   "source": [
    "## The Web is Dead.  Really?  \n",
    "\n",
    "<table>\n",
    "<tr>\n",
    "    <td><p align=\"left\">Wired: The Web is Dead. Long Live the Internet</p></td>\n",
    "    <td><p align=\"left\">Boing Boing: Is the web really dead?</p></td>\n",
    "</tr>\n",
    "<tr>\n",
    "    <td><img src=\"src/Wired-Web-is-dead.jpg\" width=480 height=346/></td>\n",
    "    <td><img src=\"src/BoingBoing-version.jpg\" width=480 height=433/></td>\n",
    "</tr>\n",
    "<tr>\n",
    "    <td><p align=\"left\"> Y-axis: percentage of total internet traffic</p></td>\n",
    "    <td><p align=\"left\">Y-axis: actual total of internet traffic (exabytes)</p></td>\n",
    "</tr>\n",
    "<tr><td colspan=2><p align=\"left\">According to Boing Boing, Wired's chart<br> \n",
    "\"..doesn't account for the increase in internet traffic over the 1990-2010 period. The use of <em>proportion of the total</em> as the vertical axis instead of the <em>actual total</em> is a interesting editorial choice.  You can probably guess that total use increases so rapidly that the web is not declining at all...  <br><br>\n",
    "In fact, **between 1995 and 2006, the total amount of web traffic went from about 10 terabytes a month to 1,000,000 terabytes (or 1 exabyte)**.  <br><br>\n",
    "According to Cisco, the same source Wired used for its projections, total **internet traffic rose then from about 1 exabyte to 7 exabytes between 2005 and 2010**. So with actual total traffic as the vertical axis, the graph would look more like this [chart on the right]... <br><br>\n",
    "<b>Update:</b> It's also worth adding that bandwidth, though an interesting measure of the internet's growth, isn't so good for measuring consumption. It doesn't map to time spent, work done, money invested, wealth yielded... Does 50MB of YouTube kitteh represent more meaningful growth than a 5MB Wired feature? And, as others point out in the comments, many of the new trends are still reliant on the web to work, especially social networking.\"</p>\n",
    "</tr></table>\n",
    "\n",
    "\n",
    "<div align=left style=\"padding-top:10px;\">\n",
    "<img src=\"src/activity.svg.png\" width=50 height=60 align=left style=\"padding-right:10px;\" /> You decide which is right:<br>\n",
    "[The Web is Dead. Long Live the Internet](https://www.wired.com/2010/08/ff_webrip/all/), Wired  \n",
    "[Is the web really dead?](https://boingboing.net/2010/08/17/is-the-web-really-de.html), Boing Boing\n",
    "</div>\n",
    "\n"
   ]
  },
  {
   "cell_type": "markdown",
   "metadata": {},
   "source": [
    "## Good visualisations:\n",
    "\n",
    "- Clarify issues not over-simplify them  \n",
    "   - Especially complex situations.\n",
    "   - May require *increasing* amount of information.\n",
    "- Reduce chances of misinterpretation \n",
    "  - What you design is never exactly what your audience ends up interpreting, so clarity is crucial"
   ]
  },
  {
   "cell_type": "markdown",
   "metadata": {},
   "source": [
    "## *\"It's more complicated than that\"*\n",
    "\n",
    "<table>\n",
    "<tr><td><img src=\"src/TA-Fig3.6.PNG\" width=402 height=187/></td></tr>\n",
    "<tr><td><img src=\"src/TA-Fig3.7.PNG\" width=402 height=187/></td></tr>\n",
    "</table>\n",
    "\n",
    "Without an informed understanding of the situation in Ukraine, you may interpret the top chart as showing a clear divide between Westernized and Russianized regions.  Yes, the divide exists, but it isn't that simple.  The poll results in the bottom chart provides a more nuanced representation of peoples views on strengthening ties with the EU or with Russia.\n",
    "\n",
    "<div align=left style=\"padding-top:10px;\">\n",
    "<img src=\"src/activity.svg.png\" width=50 height=60 align=left style=\"padding-right:10px;\" /> <br>[Ukraine crisis: What's going on in Crimea?](http://www.bbc.com/news/world-europe-25182823), BBC News, 12 August 2016\n",
    "</div>"
   ]
  },
  {
   "cell_type": "markdown",
   "metadata": {},
   "source": [
    "## Human reasoning is prone to error.\n",
    "\n",
    "The human mind didn't evolve to discover the truth, but to help us survive.\n",
    "- Split second, intuitive, life-or-death decisions based on limited info.\n",
    "- \"Faint noise behind that tree\" - fight or flight\n",
    "\n",
    "Snap judgements and intuition are still a cruical component of reasoning.\n",
    "- *\"Intuition is unconscious intelligence based on personal experience and smart rules of thumb\"*, Gerd Gigerenzer (Risk Savvy: How to Make Good Decisions)\n",
    "- Guessing where data is limited can be a good option\n",
    "- BUT we tend to make snap-judgements even where we have the enough data knowledge to make an informed judgement\n"
   ]
  },
  {
   "cell_type": "markdown",
   "metadata": {},
   "source": [
    "## The Mind, That Clumsy Modeler\n",
    "\n",
    "1. **Patternicity bug**: We see interesting patterns, whether or not they are real\n",
    "2. **Storytelling bug**: Create coherent explanations for the patterns we see.\n",
    "3. **Confirmation bug**: Once we've seen these patterns and we've created our stories, all further data is cut to fit.\n"
   ]
  },
  {
   "cell_type": "markdown",
   "metadata": {
    "collapsed": true
   },
   "source": [
    "## Mind Bug 1: Patternicity\n",
    "\n",
    "Look carefully at the chart below.  Do you see patterns in the data?  Do you notice that some data points repeat regularly over time, that some highs and lows tend to appear in the same years?  \n",
    "\n",
    "The more you look at the charts below, the more 'patterns' you'll see.  But none of them are real.  All of the charts are completely random.\n",
    "\n",
    "<div align=right style=\"padding-top:10px;\"><img src=\"src/TA-Fig3.8.png\" width=566 height=346 align=center /> </div>\n",
    "\n"
   ]
  },
  {
   "cell_type": "markdown",
   "metadata": {},
   "source": [
    "## Pareidolia\n",
    "\n",
    "Humans have an amazing capacity to detect patterns.  However, we also ['see' patterns that don't exist](https://en.wikipedia.org/wiki/Pareidolia).  We see patterns in data.  We see faces in rock formations, clouds, collections of fish and poultry...\n",
    "<br>\n",
    "<div align=right style=\"text-align:right;\">\n",
    "<img src=\"src/The-Jurist.jpg\" width=190 height=240 align=right style=\"padding-left:10px;\"/> \n",
    "<br><br>The Jurist by [Giuseppe Arcimboldo](https://en.wikipedia.org/wiki/Giuseppe_Arcimboldo), 1566. <br>What appears to be a face is a collection of fish and poultry.\n",
    "</div>\n",
    "<div align=left><img src=\"src/Martian_face_viking_cropped.jpg\" width=200 height=175 align=left style=\"padding-right:10px;padding-top:40px;\"/> \n",
    "<br><br><br><br>[The Face on Mars](https://en.wikipedia.org/wiki/Cydonia_(region_of_Mars))\n",
    "</div>\n",
    "\n",
    "\n",
    "\n"
   ]
  },
  {
   "cell_type": "markdown",
   "metadata": {},
   "source": [
    "## Mind Bug 2: Storytelling\n",
    "\n",
    "Once we detect patterns, we try to find a cause-effect explanation for them.  We jump to conclusions, fill in the gaps, and frame the results as a story.  \n",
    "\n",
    "- A single event becomes a general rule.  \n",
    "- Two events in sequential order infers a causal relationship\n",
    "\n",
    "Once we've created our stories - our mental models:  \n",
    "- We instinctively reject or re-interpret information that contradicts our 'stories'\n",
    "- Tunnel-vision effect is the result of **[cognitive dissonance](https://en.wikipedia.org/wiki/Cognitive_dissonance)** - *mentral stress when confronted with new information that contradicts personal beliefs, ideals, and values*.\n",
    "- **Confirmation bias** is how we cope when confronted by contradictory data."
   ]
  },
  {
   "cell_type": "markdown",
   "metadata": {},
   "source": [
    "## Mind Bug 3: Confirmation bias\n",
    "\n",
    "Once a 'story' has been created it takes over.  Contradictory information is rejectecd or twisted to confirm our beliefs.\n",
    "- To reduce cognitive dissonance we will:\n",
    "  - search only for evidence that backs our mental models\n",
    "  - interpret all evidence in a way that also supports our story\n",
    "  \n",
    "**Research**: Geoffrey Cohen (Stanford University) presented welfare policies to groups of liberals and conservatives.  \n",
    "- Liberal people endorsed conservative policies presented as coming from the Democratic Party\n",
    "- Conservatives favored liberal policies if they were proposed by the Republican Party\n",
    "- All said that they had carefully analysed the evidence.\n",
    "- All of them were blind to their own self-deception.  But were ready to attribute self-deception to others.\n",
    "- **More and better information** may lead to **more polarisation**.\n",
    "\n",
    "\n",
    "<div align=left style=\"padding-top:10px;\">\n",
    "<img src=\"src/activity.svg.png\" width=50 height=60 align=left style=\"padding-right:10px;\" /> [Party Over Policy](https://ed.stanford.edu/sites/default/files/party_over_policy.pdf), Geoffrey L. Cohen<br>\n",
    "[Mistakes Were Made (But Not by Me)](https://en.wikipedia.org/wiki/Mistakes_Were_Made_(But_Not_by_Me)), Carol Tavris and Elliot Aronson\n",
    "</div>"
   ]
  },
  {
   "cell_type": "markdown",
   "metadata": {},
   "source": [
    "## Presentation of information matters\n",
    "\n",
    "The manner in which we present information matters as much as the soundness of the information itself.  \n",
    "  \n",
    "- Audiences cultural values can affect how they receive information.\n",
    "- Scientific data viewed as **FAKE NEWS**  \n",
    "\n",
    "> *.. positions on climate change convey values — communal concern versus individual self-reliance; prudent self-abnegation versus the heroic pursuit of reward; humility versus ingenuity; harmony with nature versus mastery over it — that divide them along cultural lines....*\n",
    "\n",
    "> *Citizens who hold hierarchical and individualistic values discount scientific information because they associate the issue with antagonism to commerce and industry...* \n",
    "\n",
    "> *Individuals are prone to interpret challenges to beliefs that predominate with their cultural community as assaults on the competence of those whom they trust and look to for guidance. That implication—which naturally provokes resistance—is likely to be strengthened when communicators with a recognizable cultural identity stridently accuse those who disagree with them of lacking intelligence or integrity.*\n",
    "<br>The Tragedy of the Risk-Perception Commons, Dan Kahan, et al\n",
    "\n",
    "<div align=left style=\"padding-top:10px;\">\n",
    "<img src=\"src/activity.svg.png\" width=50 height=60 align=left style=\"padding-right:10px;\" /><br> \n",
    "[The Tragedy of the Risk-Perception Commons](https://www.law.upenn.edu/live/files/296-kahan-tragedy-of-the-riskperception1pdf), Dan Kahan, et al\n",
    "</div>"
   ]
  },
  {
   "cell_type": "markdown",
   "metadata": {},
   "source": [
    "## Reduce Confirmation Bias\n",
    "\n",
    "- Expose yourself to contradictory evidence\n",
    "  - Read quality publications that disagree with your cultural lines\n",
    "  - Put your **ideological outrage alarm on standby mode**\n",
    "  - Use tools and methods to evaluate contradicting evidence.  \n",
    "    - <img src=\"src/activity.svg.png\" width=25 height=30 align=left style=\"padding-right:10px;\"/> resources\n",
    "\n",
    "\n",
    "- Don't fool yourself\n",
    "- Beautiful ideas must be slayed by ugly facts"
   ]
  },
  {
   "cell_type": "markdown",
   "metadata": {},
   "source": [
    "## Truth is Neither Absolute, Nor Relative\n",
    "\n",
    "A model is an abstraction that:\n",
    "- describes, explains or predicts something\n",
    "- balances truthful representation vs needless complexity\n",
    "- as close to the truth as possible\n",
    "\n",
    "<div align=right style=\"padding-top:10px;\"><img src=\"src/TA-Fig3-Model1.png\" width=472 height=65 align=left /> </div>\n"
   ]
  },
  {
   "cell_type": "markdown",
   "metadata": {},
   "source": [
    "## Creating a better approximation\n",
    "\n",
    "<div align=right style=\"padding-top:10px;\"><img src=\"src/TA-Fig3-Model2.png\" width=472 height=150 align=center /> </div> <br>\n",
    "\n",
    "Never know where model lies on the truth continuum\n",
    "  - both blue and red lines extends to the left and right\n",
    "  - The higher the curve, the more likely model lies at that point in the continuum.\n",
    "\n",
    "Applying evidence-based reasoning may move your model to the right\n",
    "- logic, statistics, experiments\n",
    "- more and better information\n"
   ]
  },
  {
   "cell_type": "markdown",
   "metadata": {},
   "source": [
    "## Competing models\n",
    "\n",
    "<div align=right style=\"padding-top:10px;\"><img src=\"src/TA-Fig3-Model3.png\" width=472 height=114 align=center /> </div> <br>\n",
    "\n",
    "Each dot represents a competing model\n",
    "- If they are all based on sound reasoning, than all are **provisionally true** until further evidence proves them wrong \n",
    "\n",
    "- relative **truth** position assumes they are equally effective, precise and accurate at describing, explaining, or predicting       \n",
    "- More dots on the left - many more ways to be wrong than to be right."
   ]
  },
  {
   "cell_type": "markdown",
   "metadata": {},
   "source": [
    "## Compared to: What, Whom, When, Where?\n",
    "\n",
    "<div align=center><h3> 28% of journalism grads wish they’d chosen another field</h3></div>\n",
    "\n",
    "\n",
    "<div align=right style=\"padding-top:10px;\"><img src=\"src/TA-Fig3-Model4.png\" width=472 height=114 align=center /> </div> <br>"
   ]
  },
  {
   "cell_type": "markdown",
   "metadata": {},
   "source": [
    "## When\n",
    "- Is this a new trend?  Or is this actually a typical percentage?\n",
    "\n",
    "<div align=right style=\"padding-top:10px;\"><img src=\"src/TA-Fig3.9.png\" width=473 height=432 align=center /> </div> <br>"
   ]
  },
  {
   "cell_type": "markdown",
   "metadata": {},
   "source": [
    "## When\n",
    "- More data, makes our model more truthful\n",
    "\n",
    "<div align=right style=\"padding-top:10px;\"><img src=\"src/TA-Fig3-Model5.png\" width=473 height=149 align=center /> </div> <br>"
   ]
  },
  {
   "cell_type": "markdown",
   "metadata": {},
   "source": [
    "## Whom\n",
    "\n",
    "What is the career satisfaction amongst other graduates?\n",
    "- Compare to other graduates from other areas\n",
    "- Survey other grads, provide their data in story\n",
    "\n",
    "<div align=right style=\"padding-top:10px;\"><img src=\"src/TA-Fig3-Model6.png\" width=472 height=147 align=center /> </div> <br>"
   ]
  },
  {
   "cell_type": "markdown",
   "metadata": {},
   "source": [
    "## Depth & Breadth\n",
    "\n",
    "- We've explored one variable - career satisfaction - in some depth\n",
    "- Should also **explore other factors** that can affect career satisfaction"
   ]
  },
  {
   "cell_type": "markdown",
   "metadata": {},
   "source": [
    "## Breadth: explore correlated/contributing factors\n",
    "\n",
    "Create more realistic/truthful model by adding other factors that could affect career satisfaction\n",
    "- Employment prospects\n",
    "- Wages\n",
    "\n",
    "<div align=right style=\"padding-top:10px;\"><img src=\"src/TA-Fig3.10.png\" width=473 height=316 align=center /> </div>"
   ]
  },
  {
   "cell_type": "markdown",
   "metadata": {},
   "source": [
    "## New model, new headline?\n",
    "\n",
    "- Despite worsening job prospects the percentage of journalism grads who wished they'd chosen a different career hasn't changed over the past decade.\n",
    "\n",
    "<div align=right style=\"padding-top:10px;\"><img src=\"src/TA-Fig3-Model7.png\" width=472 height=145 align=center /> </div>"
   ]
  },
  {
   "cell_type": "markdown",
   "metadata": {},
   "source": [
    "## Full transparency >  Reproducible research\n",
    "\n",
    "Unless there are very good reasons not to\n",
    "- disclose all sources of data\n",
    "- discuss methods used to analyze data\n",
    "- discuss methods used to design visualisations \n",
    "   \n",
    "Organizations like ProPublica are doing it already\n",
    "- Check out this story: and have a look at the . \n",
    "[The Millions New York Counties Coulda Got](http://projects.propublica.org/graphics/ny-millions)\n",
    "- At the bottom of the article is a [\"see our methodology\" link](https://www.propublica.org/article/how-we-analyzed-new-york-county-tobacco-bonds) which explains how the data used were gathered and analysed.\n",
    "\n"
   ]
  },
  {
   "cell_type": "markdown",
   "metadata": {},
   "source": [
    "## Found an interesting data point? Stop & Think\n",
    "<img src=\"src/devils-advocate.png\" width=320 height=210 align=right style=\"padding-left:10px;\"/>\n",
    "### Play devils advocate\n",
    "- Look for other sources of data/opinions that contradict your story\n",
    "- Explore your data at multiple levels of depth and breadth\n",
    "- Look for extraneous factors that may help explain your findings\n",
    "\n",
    "### Then you can decide\n",
    "- What to say\n",
    "- How to say it\n",
    "- How much detail you need to show to be true to your data."
   ]
  },
  {
   "cell_type": "markdown",
   "metadata": {},
   "source": [
    "## The Skills of the Educated Person\n",
    "- Literacy, or fluency in written expression and understanding of texts.\n",
    "- Articulacy, or fluency in oral communication.\n",
    "- Numeracy, or fluency in analyzing, summarizing, and presenting data.\n",
    "- Graphicacy, or fluency in interpreting and using visuals."
   ]
  },
  {
   "cell_type": "markdown",
   "metadata": {},
   "source": [
    "<div style=\"text-align: left; border-style: solid; padding: 20px\">\n",
    "Parts of this Notebook were adapted from the following resources:\n",
    " <ul>\n",
    "   <li><em>The Truthful Art</em>, Alberto Cairo, New Riders<br> [learn more at Functional Art website](http://www.thefunctionalart.com/p/the-truthful-art-book.html \"http://www.thefunctionalart.com/p/the-truthful-art-book.html\")</li>\n",
    "   </ul>\n",
    "</div>"
   ]
  }
 ],
 "metadata": {
  "kernelspec": {
   "display_name": "Python 3",
   "language": "python",
   "name": "python3"
  },
  "language_info": {
   "codemirror_mode": {
    "name": "ipython",
    "version": 3
   },
   "file_extension": ".py",
   "mimetype": "text/x-python",
   "name": "python",
   "nbconvert_exporter": "python",
   "pygments_lexer": "ipython3",
   "version": "3.6.1"
  }
 },
 "nbformat": 4,
 "nbformat_minor": 2
}
